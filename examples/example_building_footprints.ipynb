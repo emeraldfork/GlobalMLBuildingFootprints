{
 "cells": [
  {
   "cell_type": "code",
   "execution_count": 1,
   "metadata": {},
   "outputs": [],
   "source": [
    "import pandas as pd\n",
    "import geopandas as gpd\n",
    "import shapely.geometry\n",
    "import mercantile\n",
    "from tqdm import tqdm\n",
    "import os\n",
    "import tempfile\n",
    "import fiona"
   ]
  },
  {
   "attachments": {},
   "cell_type": "markdown",
   "metadata": {},
   "source": [
    "## Step 1 - Define our area of interest (AOI)\n",
    "\n",
    "We define our area of interest (or AOI) as a GeoJSON geometry, then use the `shapely` library to get the bounding box.\n",
    "\n",
    "**Note**: the coordinate reference system for the GeoJSON should be \"EPSG:4326\", i.e. in global lat/lon format."
   ]
  },
  {
   "cell_type": "code",
   "execution_count": 2,
   "metadata": {},
   "outputs": [],
   "source": [
    "# Geometry copied from https://geojson.io\n",
    "aoi_geom = {\n",
    "    \"coordinates\": [\n",
    "        [\n",
    "            [25.664063, 42.111264],\n",
    "            [26.173827, 36.034885],\n",
    "            [36.017578, 35.603719],\n",
    "            [44.938477, 36.774092],\n",
    "            [44.890137, 39.609074],\n",
    "            [42.934570, 41.718851],\n",
    "            [35.055176, 42.439674],\n",
    "            [30.212402, 42.143856],\n",
    "            [25.976073, 42.195969],\n",
    "            [25.664063, 39.388660],\n",
    "        ]\n",
    "    ],\n",
    "    \"type\": \"Polygon\",\n",
    "}\n",
    "aoi_shape = shapely.geometry.shape(aoi_geom)\n",
    "minx, miny, maxx, maxy = aoi_shape.bounds\n",
    "\n",
    "output_fn = \"example_building_footprints.geojson\""
   ]
  },
  {
   "cell_type": "markdown",
   "metadata": {},
   "source": [
    "## Step 2 - Determine which tiles intersect our AOI"
   ]
  },
  {
   "cell_type": "code",
   "execution_count": 3,
   "metadata": {},
   "outputs": [
    {
     "name": "stdout",
     "output_type": "stream",
     "text": [
      "The input area spans 364 tiles: [122112000, 122112001, 122112002, 122112003, 122112010, 122112011, 122112012, 122112013, 120332302, 120332303, 120332312, 120332313, 120332320, 120332321, 120332322, 120332323, 120332330, 120332331, 120332332, 120332333, 122110000, 122110001, 122110002, 122110003, 122110010, 122110011, 122110012, 122110013, 122110020, 122110021, 122110022, 122110023, 122110030, 122110031, 122110032, 122110033, 122112100, 122112101, 122112102, 122112103, 122112110, 122112111, 122112112, 122112113, 122110100, 122110101, 122110102, 122110103, 122110110, 122110111, 122110112, 122110113, 122110120, 122110121, 122110122, 122110123, 122110130, 122110131, 122110132, 122110133, 122110200, 122110201, 122110202, 122110203, 120322302, 120322303, 122110210, 122110211, 122110212, 122110213, 120322312, 120322313, 122110220, 122110221, 122110222, 122110223, 120322320, 120322321, 120322322, 120322323, 122110230, 122110231, 122110232, 122110233, 120322330, 120322331, 120322332, 120322333, 122102100, 122102101, 122102102, 122102103, 122110300, 122110301, 122102110, 122102111, 122102112, 122102113, 122110302, 122110303, 122110310, 122110311, 122110312, 122110313, 122110320, 122110321, 122110322, 122110323, 122110330, 122110331, 122110332, 122110333, 122100100, 122100101, 122100102, 122100103, 122100110, 122100111, 122100112, 122100113, 122100120, 122100121, 122100122, 122100123, 122100130, 122100131, 122100132, 122100133, 122100300, 122100301, 122100302, 122100303, 122100310, 122100311, 122100312, 122100313, 122100320, 122100321, 122100322, 122100323, 122100330, 122100331, 122100332, 122100333, 120333202, 120333203, 120333212, 120333213, 120333220, 120333221, 120333222, 120333223, 120333230, 120333231, 120333232, 120333233, 122113000, 122113001, 122113002, 122113003, 122113010, 122113011, 122113012, 122113013, 120333302, 120333303, 120333312, 120333313, 120333320, 120333321, 120333322, 120333323, 120333330, 120333331, 120333332, 120333333, 122111000, 122111001, 122111002, 122111003, 122111010, 122111011, 122111012, 122111013, 122111020, 122111021, 122111022, 122111023, 122111030, 122111031, 122111032, 122111033, 122113100, 122113101, 122113102, 122113103, 122113110, 122113111, 122113112, 122113113, 122111100, 122111101, 122111102, 122111103, 120323202, 120323203, 122111110, 122111111, 122111112, 122111113, 120323212, 120323213, 122111120, 122111121, 122111122, 122111123, 120323220, 120323221, 120323222, 120323223, 122111130, 122111131, 122111132, 122111133, 120323230, 120323231, 120323232, 120323233, 122103000, 122103001, 122103002, 122103003, 122111200, 122111201, 122103010, 122103011, 122103012, 122103013, 120323302, 120323303, 122111202, 122111203, 122111210, 122111211, 122111212, 122111213, 120323312, 120323313, 122111220, 122111221, 122111222, 122111223, 120323320, 120323321, 120323322, 120323323, 122111230, 122111231, 122111232, 122111233, 120323330, 120323331, 120323332, 120323333, 122101000, 122101001, 122101002, 122101003, 122101010, 122101011, 122101012, 122101013, 122101020, 122101021, 122101022, 122101023, 122101030, 122101031, 122101032, 122101033, 122103100, 122103101, 122103102, 122103103, 122111300, 122111301, 122103110, 122103111, 122103112, 122103113, 122111302, 122111303, 122111310, 122111311, 122111312, 122111313, 122111320, 122111321, 122111322, 122111323, 122111330, 122111331, 122111332, 122111333, 122101100, 122101101, 122101102, 122101103, 122101110, 122101111, 122101112, 122101113, 122101120, 122101121, 122101122, 122101123, 122101130, 122101131, 122101132, 122101133, 122101200, 122101201, 122101202, 122101203, 122101210, 122101211, 122101212, 122101213, 122101220, 122101221, 122101222, 122101223, 122101230, 122101231, 122101232, 122101233, 122101300, 122101301, 122101302, 122101303, 122101310, 122101311, 122101312, 122101313, 122101320, 122101321, 122101322, 122101323, 122101330, 122101331, 122101332, 122101333, 120332202, 120332203, 120332212, 120332213, 120332220, 120332221, 120332222, 120332223, 120332230, 120332231, 120332232, 120332233]\n"
     ]
    }
   ],
   "source": [
    "quad_keys = set()\n",
    "for tile in list(mercantile.tiles(minx, miny, maxx, maxy, zooms=9)):\n",
    "    quad_keys.add(int(mercantile.quadkey(tile)))\n",
    "quad_keys = list(quad_keys)\n",
    "print(f\"The input area spans {len(quad_keys)} tiles: {quad_keys}\")"
   ]
  },
  {
   "attachments": {},
   "cell_type": "markdown",
   "metadata": {},
   "source": [
    "## Step 3 - Download the building footprints for each tile that intersects our AOI and crop the results\n",
    "\n",
    "This is where most of the magic happens. We download all the building footprints for each tile that intersects our AOI, then only keep the footprints that are _contained_ by our AOI.\n",
    "\n",
    "*Note*: this step might take awhile depending on how many tiles your AOI covers and how many buildings footprints are in those tiles."
   ]
  },
  {
   "cell_type": "code",
   "execution_count": 4,
   "metadata": {},
   "outputs": [
    {
     "name": "stderr",
     "output_type": "stream",
     "text": [
      "  0%|          | 1/364 [00:13<1:22:53, 13.70s/it]\n"
     ]
    },
    {
     "ename": "ValueError",
     "evalue": "QuadKey not found in dataset: 122112001",
     "output_type": "error",
     "traceback": [
      "\u001b[0;31m---------------------------------------------------------------------------\u001b[0m",
      "\u001b[0;31mValueError\u001b[0m                                Traceback (most recent call last)",
      "\u001b[1;32m/workspaces/GlobalMLBuildingFootprints/examples/example_building_footprints.ipynb Cell 7\u001b[0m line \u001b[0;36m2\n\u001b[1;32m     <a href='vscode-notebook-cell://codespaces%2Bspecial-trout-q4xrxvgjw4439q9j/workspaces/GlobalMLBuildingFootprints/examples/example_building_footprints.ipynb#W6sdnNjb2RlLXJlbW90ZQ%3D%3D?line=24'>25</a>\u001b[0m         \u001b[39mraise\u001b[39;00m \u001b[39mValueError\u001b[39;00m(\u001b[39mf\u001b[39m\u001b[39m\"\u001b[39m\u001b[39mMultiple rows found for QuadKey: \u001b[39m\u001b[39m{\u001b[39;00mquad_key\u001b[39m}\u001b[39;00m\u001b[39m\"\u001b[39m)\n\u001b[1;32m     <a href='vscode-notebook-cell://codespaces%2Bspecial-trout-q4xrxvgjw4439q9j/workspaces/GlobalMLBuildingFootprints/examples/example_building_footprints.ipynb#W6sdnNjb2RlLXJlbW90ZQ%3D%3D?line=25'>26</a>\u001b[0m     \u001b[39melse\u001b[39;00m:\n\u001b[0;32m---> <a href='vscode-notebook-cell://codespaces%2Bspecial-trout-q4xrxvgjw4439q9j/workspaces/GlobalMLBuildingFootprints/examples/example_building_footprints.ipynb#W6sdnNjb2RlLXJlbW90ZQ%3D%3D?line=26'>27</a>\u001b[0m         \u001b[39mraise\u001b[39;00m \u001b[39mValueError\u001b[39;00m(\u001b[39mf\u001b[39m\u001b[39m\"\u001b[39m\u001b[39mQuadKey not found in dataset: \u001b[39m\u001b[39m{\u001b[39;00mquad_key\u001b[39m}\u001b[39;00m\u001b[39m\"\u001b[39m)\n\u001b[1;32m     <a href='vscode-notebook-cell://codespaces%2Bspecial-trout-q4xrxvgjw4439q9j/workspaces/GlobalMLBuildingFootprints/examples/example_building_footprints.ipynb#W6sdnNjb2RlLXJlbW90ZQ%3D%3D?line=28'>29</a>\u001b[0m \u001b[39m# Merge the GeoJSON files into a single file\u001b[39;00m\n\u001b[1;32m     <a href='vscode-notebook-cell://codespaces%2Bspecial-trout-q4xrxvgjw4439q9j/workspaces/GlobalMLBuildingFootprints/examples/example_building_footprints.ipynb#W6sdnNjb2RlLXJlbW90ZQ%3D%3D?line=29'>30</a>\u001b[0m \u001b[39mfor\u001b[39;00m fn \u001b[39min\u001b[39;00m tmp_fns:\n",
      "\u001b[0;31mValueError\u001b[0m: QuadKey not found in dataset: 122112001"
     ]
    }
   ],
   "source": [
    "df = pd.read_csv(\n",
    "    \"https://minedbuildings.blob.core.windows.net/global-buildings/dataset-links.csv\"\n",
    ")\n",
    "\n",
    "idx = 0\n",
    "combined_rows = []\n",
    "\n",
    "with tempfile.TemporaryDirectory() as tmpdir:\n",
    "    # Download the GeoJSON files for each tile that intersects the input geometry\n",
    "    tmp_fns = []\n",
    "    for quad_key in tqdm(quad_keys):\n",
    "        rows = df[df[\"QuadKey\"] == quad_key]\n",
    "        if rows.shape[0] == 1:\n",
    "            url = rows.iloc[0][\"Url\"]\n",
    "\n",
    "            df2 = pd.read_json(url, lines=True)\n",
    "            df2[\"geometry\"] = df2[\"geometry\"].apply(shapely.geometry.shape)\n",
    "\n",
    "            gdf = gpd.GeoDataFrame(df2, crs=4326)\n",
    "            fn = os.path.join(tmpdir, f\"{quad_key}.geojson\")\n",
    "            tmp_fns.append(fn)\n",
    "            if not os.path.exists(fn):\n",
    "                gdf.to_file(fn, driver=\"GeoJSON\")\n",
    "        elif rows.shape[0] > 1:\n",
    "            raise ValueError(f\"Multiple rows found for QuadKey: {quad_key}\")\n",
    "        else:\n",
    "            raise ValueError(f\"QuadKey not found in dataset: {quad_key}\")\n",
    "\n",
    "    # Merge the GeoJSON files into a single file\n",
    "    for fn in tmp_fns:\n",
    "        with fiona.open(fn, \"r\") as f:\n",
    "            for row in tqdm(f):\n",
    "                row = dict(row)\n",
    "                shape = shapely.geometry.shape(row[\"geometry\"])\n",
    "\n",
    "                if aoi_shape.contains(shape):\n",
    "                    if \"id\" in row:\n",
    "                        del row[\"id\"]\n",
    "                    row[\"properties\"] = {\"id\": idx}\n",
    "                    idx += 1\n",
    "                    combined_rows.append(row)"
   ]
  },
  {
   "attachments": {},
   "cell_type": "markdown",
   "metadata": {},
   "source": [
    "## Step 4 - Save the resulting footprints to file"
   ]
  },
  {
   "cell_type": "code",
   "execution_count": null,
   "metadata": {},
   "outputs": [],
   "source": [
    "schema = {\"geometry\": \"Polygon\", \"properties\": {\"id\": \"int\"}}\n",
    "\n",
    "with fiona.open(output_fn, \"w\", driver=\"GeoJSON\", crs=\"EPSG:4326\", schema=schema) as f:\n",
    "    f.writerecords(combined_rows)"
   ]
  }
 ],
 "metadata": {
  "kernelspec": {
   "display_name": "Python 3",
   "language": "python",
   "name": "python3"
  },
  "language_info": {
   "codemirror_mode": {
    "name": "ipython",
    "version": 3
   },
   "file_extension": ".py",
   "mimetype": "text/x-python",
   "name": "python",
   "nbconvert_exporter": "python",
   "pygments_lexer": "ipython3",
   "version": "3.10.8"
  }
 },
 "nbformat": 4,
 "nbformat_minor": 2
}
